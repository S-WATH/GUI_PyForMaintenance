{
 "cells": [
  {
   "cell_type": "code",
   "execution_count": 1,
   "metadata": {},
   "outputs": [
    {
     "name": "stdout",
     "output_type": "stream",
     "text": [
      "hello world\n"
     ]
    }
   ],
   "source": [
    "#!pip install python-dateutil\n",
    "import datetime as dt\n",
    "import calendar as cal\n",
    "import math\n",
    "from dateutil.relativedelta import *\n",
    "from decimal import *\n",
    "print(\"hello world\")"
   ]
  },
  {
   "cell_type": "markdown",
   "metadata": {},
   "source": [
    "import nessesary module"
   ]
  },
  {
   "cell_type": "code",
   "execution_count": 24,
   "metadata": {},
   "outputs": [
    {
     "name": "stdout",
     "output_type": "stream",
     "text": [
      "2.52\n",
      "Context(prec=28, rounding=ROUND_HALF_EVEN, Emin=-999999, Emax=999999, capitals=1, clamp=0, flags=[Inexact, FloatOperation, Rounded], traps=[InvalidOperation, DivisionByZero, Overflow])\n",
      "1.23\n",
      "วันนี้วันที่ :  2024-04-15 วันสิ้นเดือนคือ  2024-04-30  จน.วันในเดือนนี้ =  30 จน.วันปีนี้ = 366\n",
      "3805\n"
     ]
    }
   ],
   "source": [
    "\n",
    "def iAmount (d,dyear,i,p) :\n",
    "  iBath = p*i/100*d/dyear\n",
    "  iBath = math.floor(iBath)\n",
    "  #print(iBath)\n",
    "  return iBath\n",
    "\n",
    "def dateforical () :\n",
    "  thisday = dt.date.today()\n",
    "  yearDays = thisday.replace(day=31,month=12) - thisday.replace(day=1,month=1)+ dt.timedelta(days=1)\n",
    "  yearDays = yearDays.days\n",
    "  daysinthismonth = cal.monthrange(thisday.year,thisday.month)[1]\n",
    "  dayEndMonth = thisday.replace(day=1)+relativedelta(days=daysinthismonth-1)\n",
    "  print(\"วันนี้วันที่ : \",thisday,\"วันสิ้นเดือนคือ \",dayEndMonth,\" จน.วันในเดือนนี้ = \",daysinthismonth,\"จน.วันปีนี้ =\",yearDays)\n",
    "\n",
    "\n",
    "def d() :\n",
    "  twoplaces = Decimal(10) ** -2\n",
    "  D=Decimal(2.5264).quantize(twoplaces,rounding=ROUND_DOWN)\n",
    "  print(D)\n",
    "  D=Decimal(3.75)-D\n",
    "  print(getcontext())\n",
    "  return D\n",
    "\n",
    "print(d())\n",
    "\n",
    "def deci (i) :\n",
    "  fp=Decimal(10)**-2\n",
    "  i = deci(i)\n",
    "  return i.quantize(fp,rounding=ROUND_DOWN)\n",
    "\n",
    "dateforical()\n",
    "\n",
    "iAmount(30,366,5.5,844192.22)\n",
    "\n",
    "print(iAmount(30,366,5.5,844192.22))\n",
    "\n",
    "\n"
   ]
  },
  {
   "cell_type": "code",
   "execution_count": 23,
   "metadata": {},
   "outputs": [
    {
     "name": "stdout",
     "output_type": "stream",
     "text": [
      "test\n"
     ]
    },
    {
     "ename": "RecursionError",
     "evalue": "maximum recursion depth exceeded while calling a Python object",
     "output_type": "error",
     "traceback": [
      "\u001b[0;31m---------------------------------------------------------------------------\u001b[0m",
      "\u001b[0;31mRecursionError\u001b[0m                            Traceback (most recent call last)",
      "Cell \u001b[0;32mIn[23], line 7\u001b[0m\n\u001b[1;32m      5\u001b[0m     P \u001b[38;5;241m=\u001b[39m deci(P)\n\u001b[1;32m      6\u001b[0m     \u001b[38;5;28mprint\u001b[39m(P)\n\u001b[0;32m----> 7\u001b[0m \u001b[43mLoanAnalyze\u001b[49m\u001b[43m(\u001b[49m\u001b[43m)\u001b[49m\n",
      "Cell \u001b[0;32mIn[23], line 5\u001b[0m, in \u001b[0;36mLoanAnalyze\u001b[0;34m(P, interest, pay)\u001b[0m\n\u001b[1;32m      3\u001b[0m \u001b[38;5;28;01mwhile\u001b[39;00m pay \u001b[38;5;241m<\u001b[39m P :\n\u001b[1;32m      4\u001b[0m   P\u001b[38;5;241m=\u001b[39m(P\u001b[38;5;241m-\u001b[39mpay)\n\u001b[0;32m----> 5\u001b[0m   P \u001b[38;5;241m=\u001b[39m \u001b[43mdeci\u001b[49m\u001b[43m(\u001b[49m\u001b[43mP\u001b[49m\u001b[43m)\u001b[49m\n\u001b[1;32m      6\u001b[0m   \u001b[38;5;28mprint\u001b[39m(P)\n",
      "Cell \u001b[0;32mIn[22], line 28\u001b[0m, in \u001b[0;36mdeci\u001b[0;34m(i)\u001b[0m\n\u001b[1;32m     26\u001b[0m \u001b[38;5;28;01mdef\u001b[39;00m \u001b[38;5;21mdeci\u001b[39m (i) :\n\u001b[1;32m     27\u001b[0m   fp\u001b[38;5;241m=\u001b[39mDecimal(\u001b[38;5;241m10\u001b[39m)\u001b[38;5;241m*\u001b[39m\u001b[38;5;241m*\u001b[39m\u001b[38;5;241m-\u001b[39m\u001b[38;5;241m2\u001b[39m\n\u001b[0;32m---> 28\u001b[0m   i \u001b[38;5;241m=\u001b[39m \u001b[43mdeci\u001b[49m\u001b[43m(\u001b[49m\u001b[43mi\u001b[49m\u001b[43m)\u001b[49m\n\u001b[1;32m     29\u001b[0m   \u001b[38;5;28;01mreturn\u001b[39;00m i\u001b[38;5;241m.\u001b[39mquantize(fp,rounding\u001b[38;5;241m=\u001b[39mROUND_DOWN)\n",
      "Cell \u001b[0;32mIn[22], line 28\u001b[0m, in \u001b[0;36mdeci\u001b[0;34m(i)\u001b[0m\n\u001b[1;32m     26\u001b[0m \u001b[38;5;28;01mdef\u001b[39;00m \u001b[38;5;21mdeci\u001b[39m (i) :\n\u001b[1;32m     27\u001b[0m   fp\u001b[38;5;241m=\u001b[39mDecimal(\u001b[38;5;241m10\u001b[39m)\u001b[38;5;241m*\u001b[39m\u001b[38;5;241m*\u001b[39m\u001b[38;5;241m-\u001b[39m\u001b[38;5;241m2\u001b[39m\n\u001b[0;32m---> 28\u001b[0m   i \u001b[38;5;241m=\u001b[39m \u001b[43mdeci\u001b[49m\u001b[43m(\u001b[49m\u001b[43mi\u001b[49m\u001b[43m)\u001b[49m\n\u001b[1;32m     29\u001b[0m   \u001b[38;5;28;01mreturn\u001b[39;00m i\u001b[38;5;241m.\u001b[39mquantize(fp,rounding\u001b[38;5;241m=\u001b[39mROUND_DOWN)\n",
      "    \u001b[0;31m[... skipping similar frames: deci at line 28 (2968 times)]\u001b[0m\n",
      "Cell \u001b[0;32mIn[22], line 28\u001b[0m, in \u001b[0;36mdeci\u001b[0;34m(i)\u001b[0m\n\u001b[1;32m     26\u001b[0m \u001b[38;5;28;01mdef\u001b[39;00m \u001b[38;5;21mdeci\u001b[39m (i) :\n\u001b[1;32m     27\u001b[0m   fp\u001b[38;5;241m=\u001b[39mDecimal(\u001b[38;5;241m10\u001b[39m)\u001b[38;5;241m*\u001b[39m\u001b[38;5;241m*\u001b[39m\u001b[38;5;241m-\u001b[39m\u001b[38;5;241m2\u001b[39m\n\u001b[0;32m---> 28\u001b[0m   i \u001b[38;5;241m=\u001b[39m \u001b[43mdeci\u001b[49m\u001b[43m(\u001b[49m\u001b[43mi\u001b[49m\u001b[43m)\u001b[49m\n\u001b[1;32m     29\u001b[0m   \u001b[38;5;28;01mreturn\u001b[39;00m i\u001b[38;5;241m.\u001b[39mquantize(fp,rounding\u001b[38;5;241m=\u001b[39mROUND_DOWN)\n",
      "Cell \u001b[0;32mIn[22], line 27\u001b[0m, in \u001b[0;36mdeci\u001b[0;34m(i)\u001b[0m\n\u001b[1;32m     26\u001b[0m \u001b[38;5;28;01mdef\u001b[39;00m \u001b[38;5;21mdeci\u001b[39m (i) :\n\u001b[0;32m---> 27\u001b[0m   fp\u001b[38;5;241m=\u001b[39m\u001b[43mDecimal\u001b[49m\u001b[43m(\u001b[49m\u001b[38;5;241;43m10\u001b[39;49m\u001b[43m)\u001b[49m\u001b[38;5;241m*\u001b[39m\u001b[38;5;241m*\u001b[39m\u001b[38;5;241m-\u001b[39m\u001b[38;5;241m2\u001b[39m\n\u001b[1;32m     28\u001b[0m   i \u001b[38;5;241m=\u001b[39m deci(i)\n\u001b[1;32m     29\u001b[0m   \u001b[38;5;28;01mreturn\u001b[39;00m i\u001b[38;5;241m.\u001b[39mquantize(fp,rounding\u001b[38;5;241m=\u001b[39mROUND_DOWN)\n",
      "\u001b[0;31mRecursionError\u001b[0m: maximum recursion depth exceeded while calling a Python object"
     ]
    }
   ],
   "source": [
    "def LoanAnalyze(P=844192.22, interest=5.5,pay=40000):\n",
    "  print(\"test\") \n",
    "  while pay < P :\n",
    "    P=(P-pay)\n",
    "    P = deci(P)\n",
    "    print(P)\n",
    "LoanAnalyze()"
   ]
  }
 ],
 "metadata": {
  "kernelspec": {
   "display_name": "Python 3",
   "language": "python",
   "name": "python3"
  },
  "language_info": {
   "codemirror_mode": {
    "name": "ipython",
    "version": 3
   },
   "file_extension": ".py",
   "mimetype": "text/x-python",
   "name": "python",
   "nbconvert_exporter": "python",
   "pygments_lexer": "ipython3",
   "version": "3.8.2"
  }
 },
 "nbformat": 4,
 "nbformat_minor": 2
}
